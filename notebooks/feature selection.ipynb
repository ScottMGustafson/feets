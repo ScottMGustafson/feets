{
 "cells": [
  {
   "cell_type": "code",
   "execution_count": 1,
   "metadata": {},
   "outputs": [],
   "source": [
    "import pandas as pd\n",
    "from sklearn.datasets import make_regression\n",
    "\n",
    "X,y = make_regression(n_samples=1000, \n",
    "                      n_features=100, \n",
    "                      n_informative=10, \n",
    "                      n_targets=1)\n",
    "df = pd.DataFrame({f'feat_{i}':X.T[i]for i in range(X.shape[1])})\n",
    "df['target'] = y\n",
    "features = df.columns.tolist()[:-1]\n",
    "target = 'target'\n",
    "X = df[features]\n",
    "y = df[target]"
   ]
  },
  {
   "cell_type": "code",
   "execution_count": 3,
   "metadata": {},
   "outputs": [
    {
     "data": {
      "text/plain": [
       "['feat_3',\n",
       " 'feat_6',\n",
       " 'feat_10',\n",
       " 'feat_22',\n",
       " 'feat_28',\n",
       " 'feat_45',\n",
       " 'feat_51',\n",
       " 'feat_56',\n",
       " 'feat_66']"
      ]
     },
     "execution_count": 3,
     "metadata": {},
     "output_type": "execute_result"
    }
   ],
   "source": [
    "from feets.gbm_random_feats import run_gbm_random_feats\n",
    "import xgboost as xgb\n",
    "\n",
    "run_gbm_random_feats(df, features, target, xgb.XGBRegressor, \n",
    "                     model_kwargs=dict(max_depth=4),\n",
    "                     kfold_kwargs=dict(n_splits=5))"
   ]
  }
 ],
 "metadata": {
  "kernelspec": {
   "display_name": "Python (feets)",
   "language": "python",
   "name": "feets"
  },
  "language_info": {
   "codemirror_mode": {
    "name": "ipython",
    "version": 3
   },
   "file_extension": ".py",
   "mimetype": "text/x-python",
   "name": "python",
   "nbconvert_exporter": "python",
   "pygments_lexer": "ipython3",
   "version": "3.7.7"
  }
 },
 "nbformat": 4,
 "nbformat_minor": 4
}
