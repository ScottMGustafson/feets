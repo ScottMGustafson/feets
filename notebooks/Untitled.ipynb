{
 "cells": [
  {
   "cell_type": "code",
   "execution_count": 2,
   "metadata": {},
   "outputs": [],
   "source": [
    "import pandas as pd\n",
    "import numpy as np"
   ]
  },
  {
   "cell_type": "code",
   "execution_count": 90,
   "metadata": {},
   "outputs": [],
   "source": [
    "dct = {'a':[10,2,43,4,5,6], \n",
    "       'b':['2020-01-04',np.nan,'2020-01-03','2020-01-01','2020-01-02','2020-01-01'],\n",
    "       'c' : [1.0, np.nan, 0.1, 0.4, 0.6,1.5],\n",
    "       'd' : ['a', 'b', 'c','a', 'b', 'c'],\n",
    "       'e' : [1,1,1,1,1,1],\n",
    "       'f' : [1,1,0,1,1,np.nan],\n",
    "       'g': [np.nan,np.nan,np.nan,np.nan,np.nan,np.nan]}\n",
    "\n",
    "df = pd.DataFrame(dct)"
   ]
  },
  {
   "cell_type": "code",
   "execution_count": 91,
   "metadata": {},
   "outputs": [
    {
     "data": {
      "text/html": [
       "<div>\n",
       "<style scoped>\n",
       "    .dataframe tbody tr th:only-of-type {\n",
       "        vertical-align: middle;\n",
       "    }\n",
       "\n",
       "    .dataframe tbody tr th {\n",
       "        vertical-align: top;\n",
       "    }\n",
       "\n",
       "    .dataframe thead th {\n",
       "        text-align: right;\n",
       "    }\n",
       "</style>\n",
       "<table border=\"1\" class=\"dataframe\">\n",
       "  <thead>\n",
       "    <tr style=\"text-align: right;\">\n",
       "      <th></th>\n",
       "      <th>a</th>\n",
       "      <th>b</th>\n",
       "      <th>c</th>\n",
       "      <th>d</th>\n",
       "      <th>e</th>\n",
       "      <th>f</th>\n",
       "      <th>g</th>\n",
       "    </tr>\n",
       "  </thead>\n",
       "  <tbody>\n",
       "    <tr>\n",
       "      <th>0</th>\n",
       "      <td>10</td>\n",
       "      <td>2020-01-04</td>\n",
       "      <td>1.0</td>\n",
       "      <td>a</td>\n",
       "      <td>1</td>\n",
       "      <td>1.0</td>\n",
       "      <td>NaN</td>\n",
       "    </tr>\n",
       "    <tr>\n",
       "      <th>1</th>\n",
       "      <td>2</td>\n",
       "      <td>NaN</td>\n",
       "      <td>NaN</td>\n",
       "      <td>b</td>\n",
       "      <td>1</td>\n",
       "      <td>1.0</td>\n",
       "      <td>NaN</td>\n",
       "    </tr>\n",
       "    <tr>\n",
       "      <th>2</th>\n",
       "      <td>43</td>\n",
       "      <td>2020-01-03</td>\n",
       "      <td>0.1</td>\n",
       "      <td>c</td>\n",
       "      <td>1</td>\n",
       "      <td>0.0</td>\n",
       "      <td>NaN</td>\n",
       "    </tr>\n",
       "    <tr>\n",
       "      <th>3</th>\n",
       "      <td>4</td>\n",
       "      <td>2020-01-01</td>\n",
       "      <td>0.4</td>\n",
       "      <td>a</td>\n",
       "      <td>1</td>\n",
       "      <td>1.0</td>\n",
       "      <td>NaN</td>\n",
       "    </tr>\n",
       "    <tr>\n",
       "      <th>4</th>\n",
       "      <td>5</td>\n",
       "      <td>2020-01-02</td>\n",
       "      <td>0.6</td>\n",
       "      <td>b</td>\n",
       "      <td>1</td>\n",
       "      <td>1.0</td>\n",
       "      <td>NaN</td>\n",
       "    </tr>\n",
       "    <tr>\n",
       "      <th>5</th>\n",
       "      <td>6</td>\n",
       "      <td>2020-01-01</td>\n",
       "      <td>1.5</td>\n",
       "      <td>c</td>\n",
       "      <td>1</td>\n",
       "      <td>NaN</td>\n",
       "      <td>NaN</td>\n",
       "    </tr>\n",
       "  </tbody>\n",
       "</table>\n",
       "</div>"
      ],
      "text/plain": [
       "    a           b    c  d  e    f   g\n",
       "0  10  2020-01-04  1.0  a  1  1.0 NaN\n",
       "1   2         NaN  NaN  b  1  1.0 NaN\n",
       "2  43  2020-01-03  0.1  c  1  0.0 NaN\n",
       "3   4  2020-01-01  0.4  a  1  1.0 NaN\n",
       "4   5  2020-01-02  0.6  b  1  1.0 NaN\n",
       "5   6  2020-01-01  1.5  c  1  NaN NaN"
      ]
     },
     "execution_count": 91,
     "metadata": {},
     "output_type": "execute_result"
    }
   ],
   "source": [
    "df"
   ]
  },
  {
   "cell_type": "code",
   "execution_count": 93,
   "metadata": {},
   "outputs": [
    {
     "data": {
      "text/plain": [
       "dtype('<M8[ns]')"
      ]
     },
     "execution_count": 93,
     "metadata": {},
     "output_type": "execute_result"
    }
   ],
   "source": [
    "pd.to_datetime(df['b']).dtype"
   ]
  },
  {
   "cell_type": "code",
   "execution_count": 9,
   "metadata": {},
   "outputs": [
    {
     "data": {
      "text/plain": [
       "0    1.0\n",
       "1    0.0\n",
       "2    1.0\n",
       "dtype: float64"
      ]
     },
     "execution_count": 9,
     "metadata": {},
     "output_type": "execute_result"
    }
   ],
   "source": [
    "pd.Series([True, False, True]).astype('float')"
   ]
  },
  {
   "cell_type": "code",
   "execution_count": 57,
   "metadata": {},
   "outputs": [],
   "source": [
    "def classify_feature_types(df, feats=None):\n",
    "    \"\"\"\n",
    "    get inferred feature types by trying df.astype.\n",
    "    This will try to cast each type as either\n",
    "        - numeric: encompassing, int, float and bool types or anything else that\n",
    "            can be successfully cast as float\n",
    "        - datetime: anything that pandas can successfully cast to datetime\n",
    "        - object: anything else, typically treated as a string\n",
    "\n",
    "    Parameters\n",
    "    ----------\n",
    "    df : dataframe\n",
    "    feats : list (optional)\n",
    "        list of features\n",
    "\n",
    "    Returns\n",
    "    -------\n",
    "    dict\n",
    "        column name : inferred type (numeric, datetime or object)\n",
    "    \"\"\"\n",
    "    def test_type(ser, _type):\n",
    "        try:\n",
    "            _ = ser.astype(_type)\n",
    "            return True\n",
    "        except ValueError:\n",
    "            return False\n",
    "\n",
    "    if not feats:\n",
    "        feats = df.columns.tolist()\n",
    "\n",
    "    _types = {}\n",
    "    type_mapping = [('numeric', 'float64'),\n",
    "                    ('datetime', 'M8[us]'),\n",
    "                    ('object', 'object')]\n",
    "    for col in feats:\n",
    "        for k, _type in type_mapping:\n",
    "            if test_type(df[col], _type):\n",
    "                _types[col] = k\n",
    "                break\n",
    "    return _types"
   ]
  },
  {
   "cell_type": "code",
   "execution_count": 58,
   "metadata": {},
   "outputs": [
    {
     "data": {
      "text/plain": [
       "{'a': 'numeric',\n",
       " 'b': 'datetime',\n",
       " 'c': 'numeric',\n",
       " 'd': 'object',\n",
       " 'e': 'numeric',\n",
       " 'f': 'numeric',\n",
       " 'g': 'numeric'}"
      ]
     },
     "execution_count": 58,
     "metadata": {},
     "output_type": "execute_result"
    }
   ],
   "source": [
    "classify_feature_types(df)"
   ]
  },
  {
   "cell_type": "code",
   "execution_count": 46,
   "metadata": {},
   "outputs": [
    {
     "data": {
      "text/plain": [
       "0    2020-01-04\n",
       "1           nan\n",
       "2    2020-01-03\n",
       "3    2020-01-01\n",
       "4    2020-01-02\n",
       "5    2020-01-01\n",
       "Name: b, dtype: object"
      ]
     },
     "execution_count": 46,
     "metadata": {},
     "output_type": "execute_result"
    }
   ],
   "source": [
    "df['b'].astype('str')"
   ]
  },
  {
   "cell_type": "code",
   "execution_count": 47,
   "metadata": {},
   "outputs": [],
   "source": [
    "mapping = {'a': 'numeric',\n",
    " 'b': 'datetime',\n",
    " 'c': 'numeric',\n",
    " 'd': 'object',\n",
    " 'e': 'numeric'}\n"
   ]
  },
  {
   "cell_type": "code",
   "execution_count": 59,
   "metadata": {},
   "outputs": [],
   "source": [
    "def classify_value_counts(df, col, unique_thresh=0.05, type_mapping=None):\n",
    "    val_counts = df[col].dropna().value_counts()\n",
    "    if val_counts.empty:\n",
    "        return 'null'\n",
    "    elif val_counts.size == 1:\n",
    "        return 'uninformative'\n",
    "    elif val_counts.size == 2:\n",
    "        return 'binary'\n",
    "    else:\n",
    "        if not type_mapping:\n",
    "            type_mapping = classify_feature_types(df[[col]])\n",
    "        else:\n",
    "            assert list(set(type_mapping.values))\n",
    "        if type_mapping[col] == 'numeric':\n",
    "            assert unique_thresh > 0\n",
    "            if unique_thresh < 1.0:\n",
    "                unique_thresh = int(unique_thresh * df.index.size)\n",
    "                \n",
    "            if len(val_counts) > unique_thresh:\n",
    "                return 'continuous'\n",
    "    return 'categorical'\n",
    "            \n"
   ]
  },
  {
   "cell_type": "code",
   "execution_count": 61,
   "metadata": {},
   "outputs": [
    {
     "name": "stdout",
     "output_type": "stream",
     "text": [
      "continuous\n",
      "categorical\n",
      "continuous\n",
      "categorical\n",
      "uninformative\n",
      "binary\n",
      "null\n"
     ]
    }
   ],
   "source": [
    "for col in df.columns:\n",
    "    print(classify_value_counts(df, col))"
   ]
  },
  {
   "cell_type": "code",
   "execution_count": 37,
   "metadata": {},
   "outputs": [
    {
     "data": {
      "text/plain": [
       "Series([], dtype: int64)"
      ]
     },
     "execution_count": 37,
     "metadata": {},
     "output_type": "execute_result"
    }
   ],
   "source": [
    "pd.Series([np.nan, np.nan, np.nan]).dropna().value_counts()"
   ]
  },
  {
   "cell_type": "code",
   "execution_count": null,
   "metadata": {},
   "outputs": [],
   "source": [
    "col = 'a'\n",
    "unique_thresh = 4\n",
    "classify_value_counts(df, col, unique_thresh)"
   ]
  },
  {
   "cell_type": "code",
   "execution_count": 38,
   "metadata": {},
   "outputs": [
    {
     "data": {
      "text/plain": [
       "6"
      ]
     },
     "execution_count": 38,
     "metadata": {},
     "output_type": "execute_result"
    }
   ],
   "source": [
    "len(val_counts)"
   ]
  },
  {
   "cell_type": "code",
   "execution_count": 78,
   "metadata": {},
   "outputs": [
    {
     "ename": "AssertionError",
     "evalue": "{'categorical'} not recognized type mappings: {'numeric', 'object', 'datetime'}",
     "output_type": "error",
     "traceback": [
      "\u001b[0;31m---------------------------------------------------------------------------\u001b[0m",
      "\u001b[0;31mAssertionError\u001b[0m                            Traceback (most recent call last)",
      "\u001b[0;32m<ipython-input-78-e0cbe8e97b65>\u001b[0m in \u001b[0;36m<module>\u001b[0;34m\u001b[0m\n\u001b[1;32m      7\u001b[0m     \u001b[0;32massert\u001b[0m \u001b[0;32mnot\u001b[0m \u001b[0mdiff\u001b[0m\u001b[0;34m,\u001b[0m \u001b[0;34mf'{diff} not recognized type mappings: {allowed_types}'\u001b[0m\u001b[0;34m\u001b[0m\u001b[0;34m\u001b[0m\u001b[0m\n\u001b[1;32m      8\u001b[0m \u001b[0;34m\u001b[0m\u001b[0m\n\u001b[0;32m----> 9\u001b[0;31m \u001b[0m_validate_mappings\u001b[0m\u001b[0;34m(\u001b[0m\u001b[0mlist\u001b[0m\u001b[0;34m(\u001b[0m\u001b[0ma\u001b[0m\u001b[0;34m)\u001b[0m\u001b[0;34m)\u001b[0m\u001b[0;34m\u001b[0m\u001b[0;34m\u001b[0m\u001b[0m\n\u001b[0m",
      "\u001b[0;32m<ipython-input-78-e0cbe8e97b65>\u001b[0m in \u001b[0;36m_validate_mappings\u001b[0;34m(lst)\u001b[0m\n\u001b[1;32m      5\u001b[0m     \u001b[0mallowed_types\u001b[0m \u001b[0;34m=\u001b[0m \u001b[0mset\u001b[0m\u001b[0;34m(\u001b[0m\u001b[0;34m[\u001b[0m\u001b[0mx\u001b[0m\u001b[0;34m[\u001b[0m\u001b[0;36m0\u001b[0m\u001b[0;34m]\u001b[0m \u001b[0;32mfor\u001b[0m \u001b[0mx\u001b[0m \u001b[0;32min\u001b[0m \u001b[0mtype_mapping\u001b[0m\u001b[0;34m]\u001b[0m\u001b[0;34m)\u001b[0m\u001b[0;34m\u001b[0m\u001b[0;34m\u001b[0m\u001b[0m\n\u001b[1;32m      6\u001b[0m     \u001b[0mdiff\u001b[0m \u001b[0;34m=\u001b[0m \u001b[0mset\u001b[0m\u001b[0;34m(\u001b[0m\u001b[0mlst\u001b[0m\u001b[0;34m)\u001b[0m\u001b[0;34m.\u001b[0m\u001b[0mdifference\u001b[0m\u001b[0;34m(\u001b[0m\u001b[0mallowed_types\u001b[0m\u001b[0;34m)\u001b[0m\u001b[0;34m\u001b[0m\u001b[0;34m\u001b[0m\u001b[0m\n\u001b[0;32m----> 7\u001b[0;31m     \u001b[0;32massert\u001b[0m \u001b[0;32mnot\u001b[0m \u001b[0mdiff\u001b[0m\u001b[0;34m,\u001b[0m \u001b[0;34mf'{diff} not recognized type mappings: {allowed_types}'\u001b[0m\u001b[0;34m\u001b[0m\u001b[0;34m\u001b[0m\u001b[0m\n\u001b[0m\u001b[1;32m      8\u001b[0m \u001b[0;34m\u001b[0m\u001b[0m\n\u001b[1;32m      9\u001b[0m \u001b[0m_validate_mappings\u001b[0m\u001b[0;34m(\u001b[0m\u001b[0mlist\u001b[0m\u001b[0;34m(\u001b[0m\u001b[0ma\u001b[0m\u001b[0;34m)\u001b[0m\u001b[0;34m)\u001b[0m\u001b[0;34m\u001b[0m\u001b[0;34m\u001b[0m\u001b[0m\n",
      "\u001b[0;31mAssertionError\u001b[0m: {'categorical'} not recognized type mappings: {'numeric', 'object', 'datetime'}"
     ]
    }
   ],
   "source": [
    "a = {'numeric', 'categorical'}\n",
    "b = {'numeric', 'object', 'datetime'}\n",
    "\n",
    "def _validate_mappings(lst):\n",
    "    allowed_types = set([x[0] for x in type_mapping])\n",
    "    diff = set(lst).difference(allowed_types)\n",
    "    assert not diff, f'{diff} not recognized type mappings: {allowed_types}'\n",
    "\n",
    "_validate_mappings(list(a))"
   ]
  },
  {
   "cell_type": "code",
   "execution_count": 75,
   "metadata": {},
   "outputs": [],
   "source": [
    "assert not {}"
   ]
  },
  {
   "cell_type": "code",
   "execution_count": 71,
   "metadata": {},
   "outputs": [
    {
     "data": {
      "text/plain": [
       "{'datetime', 'numeric', 'object'}"
      ]
     },
     "execution_count": 71,
     "metadata": {},
     "output_type": "execute_result"
    }
   ],
   "source": [
    "type_mapping = [('numeric', 'float64'),\n",
    "                ('datetime', 'M8[us]'),\n",
    "                ('object', 'object')]\n",
    "\n",
    "set([x[0] for x in type_mapping])\n"
   ]
  },
  {
   "cell_type": "code",
   "execution_count": 79,
   "metadata": {},
   "outputs": [],
   "source": [
    "df = pd.DataFrame({'a':np.random.sample(1000), \n",
    "                   'b':np.random.sample(1000), \n",
    "                   'c':np.random.sample(1000), \n",
    "                   'c':np.random.sample(1000)})"
   ]
  },
  {
   "cell_type": "code",
   "execution_count": 94,
   "metadata": {},
   "outputs": [],
   "source": [
    "corr_kwargs = {'method':'spearman'}\n",
    "def get_correlates(df, thresh=0.9, feats=None, **corr_kwargs):\n",
    "    if not feats:\n",
    "        # quickly un uncomprehensively remove object and datetime types.\n",
    "        feats = [f for f in df.columns.tolist() \n",
    "                 if df[f].dtype not in ['object', '<M8[ns]']]\n",
    "        \n",
    "    corr_matrix = df.corr(**corr_kwargs).abs()\n",
    "    corr_pairs = (corr_matrix.where(np.triu(np.ones(corr_matrix.shape), k=1)\n",
    "                          .astype(np.bool))\n",
    "                     .stack()\n",
    "                     .sort_values(ascending=False))\n",
    "    return corr_pairs[corr_pairs > thresh]\n"
   ]
  },
  {
   "cell_type": "code",
   "execution_count": 95,
   "metadata": {},
   "outputs": [
    {
     "data": {
      "text/plain": [
       "c  f    0.774597\n",
       "a  f    0.707107\n",
       "   c    0.100000\n",
       "dtype: float64"
      ]
     },
     "execution_count": 95,
     "metadata": {},
     "output_type": "execute_result"
    }
   ],
   "source": [
    "get_correlates(df, thresh=0.01, feats=None, method='spearman')"
   ]
  },
  {
   "cell_type": "code",
   "execution_count": 4,
   "metadata": {},
   "outputs": [],
   "source": []
  },
  {
   "cell_type": "code",
   "execution_count": null,
   "metadata": {},
   "outputs": [],
   "source": []
  }
 ],
 "metadata": {
  "kernelspec": {
   "display_name": "Python (feets)",
   "language": "python",
   "name": "feets"
  },
  "language_info": {
   "codemirror_mode": {
    "name": "ipython",
    "version": 3
   },
   "file_extension": ".py",
   "mimetype": "text/x-python",
   "name": "python",
   "nbconvert_exporter": "python",
   "pygments_lexer": "ipython3",
   "version": "3.7.7"
  }
 },
 "nbformat": 4,
 "nbformat_minor": 2
}
